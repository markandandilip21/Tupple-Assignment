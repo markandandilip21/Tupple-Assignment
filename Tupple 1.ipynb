{
 "cells": [
  {
   "cell_type": "code",
   "execution_count": 17,
   "id": "3dcf4ad6",
   "metadata": {},
   "outputs": [
    {
     "name": "stdout",
     "output_type": "stream",
     "text": [
      "Enter a list of tuples : [(2, 5), (1, 2), (4, 4), (2, 3), (2, 1)]\n",
      "Sorted list:\n",
      "[(2, 1), (1, 2), (2, 3), (4, 4), (2, 5)]\n"
     ]
    }
   ],
   "source": [
    "# Get the list of tuples from the user\n",
    "input_str = input(\"Enter a list of tuples : \")\n",
    "\n",
    "# Remove the square brackets and split the string to get individual tuples as strings\n",
    "tuple_strs = input_str[1:-1].split('), ')\n",
    "\n",
    "# Initialize an empty list to store the tuples\n",
    "tuples_list = []\n",
    "\n",
    "# Convert each tuple string to a tuple and add it to the list\n",
    "for tuple_str in tuple_strs:\n",
    "    # Add back the closing parenthesis for the last element\n",
    "    if tuple_str[-1] != ')':\n",
    "        tuple_str += ')'\n",
    "    \n",
    "    # Split the tuple string by comma, convert each element to an integer, and create a tuple\n",
    "    tuple_values = tuple(map(int, tuple_str[1:-1].split(',')))\n",
    "    tuples_list.append(tuple_values)\n",
    "\n",
    "# Sort the list in increasing order by the last element of each tuple using bubble sort\n",
    "n = len(tuples_list)\n",
    "for i in range(n - 1):\n",
    "    swapped = False\n",
    "    for j in range(n - i - 1):\n",
    "        if tuples_list[j][-1] > tuples_list[j + 1][-1]:\n",
    "            tuples_list[j], tuples_list[j + 1] = tuples_list[j + 1], tuples_list[j]\n",
    "            swapped = True\n",
    "    if not swapped:\n",
    "        break\n",
    "\n",
    "# Print the sorted result\n",
    "print(\"Sorted list:\")\n",
    "print(tuples_list)\n",
    "\n",
    "\n"
   ]
  },
  {
   "cell_type": "code",
   "execution_count": null,
   "id": "643cb7f3",
   "metadata": {},
   "outputs": [],
   "source": []
  },
  {
   "cell_type": "code",
   "execution_count": null,
   "id": "85fa245f",
   "metadata": {},
   "outputs": [],
   "source": []
  }
 ],
 "metadata": {
  "kernelspec": {
   "display_name": "Python 3 (ipykernel)",
   "language": "python",
   "name": "python3"
  },
  "language_info": {
   "codemirror_mode": {
    "name": "ipython",
    "version": 3
   },
   "file_extension": ".py",
   "mimetype": "text/x-python",
   "name": "python",
   "nbconvert_exporter": "python",
   "pygments_lexer": "ipython3",
   "version": "3.10.9"
  }
 },
 "nbformat": 4,
 "nbformat_minor": 5
}
